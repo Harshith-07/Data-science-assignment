{
 "cells": [
  {
   "cell_type": "markdown",
   "id": "b067bb55",
   "metadata": {},
   "source": [
    "Tools For Data Science Assignment"
   ]
  },
  {
   "cell_type": "markdown",
   "id": "1150935c",
   "metadata": {},
   "source": [
    "This is the introduction to the assignment. "
   ]
  },
  {
   "cell_type": "markdown",
   "id": "0d52d017",
   "metadata": {},
   "source": [
    "**Objectives**\n",
    "-List of popular languages for data science\n",
    "      -Python\n",
    "      -R\n",
    "      -SQL\n",
    "      -MATLAB"
   ]
  },
  {
   "cell_type": "markdown",
   "id": "2ef31a27",
   "metadata": {},
   "source": [
    "The list of data science languages are\n",
    "1. Python\n",
    "2. R\n",
    "3. SQL\n",
    "4. MATLAB\n",
    "5. Java\n",
    "6. Julia\n",
    "7. Scala\n",
    "8. C/C++\n",
    "9. JavaScript\n",
    "10. Ruby"
   ]
  },
  {
   "cell_type": "markdown",
   "id": "77eca1e7",
   "metadata": {},
   "source": [
    "The list of data science libraries are\n",
    "1. NumPy\n",
    "2. Pandas\n",
    "3. Matplotlib\n",
    "4. Seaborn\n",
    "5. Scikit-learn\n",
    "6. TensorFlow\n",
    "7. Keras\n",
    "8. PyTorch\n",
    "9. NLTK\n",
    "10. Statsmodels"
   ]
  },
  {
   "cell_type": "markdown",
   "id": "ee88a8ef",
   "metadata": {},
   "source": [
    "| Tool | Language | Purpose |\n",
    "|------|----------|---------|\n",
    "| Jupyter Notebook | Python | Interactive coding environment |\n",
    "| RStudio | R | Interactive coding environment |\n",
    "| Pandas | Python | Data manipulation |\n",
    "| dplyr | R | Data manipulation |\n",
    "| Scikit-learn | Python | Machine learning |\n",
    "| caret | R | Machine learning |"
   ]
  },
  {
   "cell_type": "markdown",
   "id": "1ab6429f",
   "metadata": {},
   "source": [
    "Arithmetic expressions are mathematical expressions that involve operations such as addition, subtraction, multiplication, and division. These expressions are commonly used in programming languages like Python, R, and Java to perform mathematical operations on numerical data.\n",
    "\n",
    "Examples of arithmetic expressions include:\n",
    "\n",
    "3 + 5: Adds 3 and 5 to produce 8\n",
    "12 - 7: Subtracts 7 from 12 to produce 5\n",
    "4 * 6: Multiplies 4 and 6 to produce 24\n",
    "10 / 2: Divides 10 by 2 to produce 5"
   ]
  },
  {
   "cell_type": "code",
   "execution_count": 2,
   "id": "50de552c",
   "metadata": {},
   "outputs": [
    {
     "name": "stdout",
     "output_type": "stream",
     "text": [
      "8\n",
      "14\n"
     ]
    }
   ],
   "source": [
    "#Multiplication\n",
    "print(4*2)\n",
    "#Addition\n",
    "print(8+6)"
   ]
  },
  {
   "cell_type": "code",
   "execution_count": 3,
   "id": "79fb7bb2",
   "metadata": {},
   "outputs": [
    {
     "name": "stdout",
     "output_type": "stream",
     "text": [
      "1.5\n"
     ]
    }
   ],
   "source": [
    "#Minutes to hours conversion\n",
    "minutes = 90\n",
    "hours = minutes / 60\n",
    "print(hours)"
   ]
  },
  {
   "cell_type": "markdown",
   "id": "00e1733d",
   "metadata": {},
   "source": [
    "## Author\n",
    "B Harshith"
   ]
  },
  {
   "cell_type": "code",
   "execution_count": null,
   "id": "38b5d814",
   "metadata": {},
   "outputs": [],
   "source": []
  }
 ],
 "metadata": {
  "kernelspec": {
   "display_name": "Python 3 (ipykernel)",
   "language": "python",
   "name": "python3"
  },
  "language_info": {
   "codemirror_mode": {
    "name": "ipython",
    "version": 3
   },
   "file_extension": ".py",
   "mimetype": "text/x-python",
   "name": "python",
   "nbconvert_exporter": "python",
   "pygments_lexer": "ipython3",
   "version": "3.9.7"
  }
 },
 "nbformat": 4,
 "nbformat_minor": 5
}
